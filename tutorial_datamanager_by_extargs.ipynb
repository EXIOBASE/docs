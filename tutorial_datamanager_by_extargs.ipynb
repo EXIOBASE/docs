{
 "cells": [
  {
   "cell_type": "markdown",
   "metadata": {},
   "source": [
    "## Tutorial for `datamanager` Using `ExtArgs`\n",
    "\n",
    "This tutorial demonstrates use of datamanager using the `ExtArgs` pattern, which is implicitly used when calling datamanager from Snakemake with the `script` syntax or when using the CLI. This is arguably the preferred approach in most cases since it ensures consistency: any problems present using this interface would also appear when interfacing with datamanager from Snakemake or CLI.\n",
    "\n",
    "*NOTE*: If using VSCode then Pylance uses a different Python interpreter than the one executing the notebook. Even if it is using the correct conda environment (it should be!), the changes to `syspath` here aren't reflected in the Python interpreter running Pylance. So, to avoid Pylance complaining about datamanager not being found and enable auto-completion, one has to add the path explicitly into settings. See, this [StackExchange post](https://stackoverflow.com/questions/65252074/import-path-to-own-script-could-not-be-resolved-pylance-reportmissingimports). Also, remember to remove at some indeterminate point in the future.\n",
    "\n",
    "### Contents of this tutorial\n",
    "\n",
    "* [Setup and Overview](#setup-and-overview)\n",
    "* [Run Management](#run-management)\n",
    "\n"
   ]
  },
  {
   "cell_type": "markdown",
   "metadata": {},
   "source": [
    "### Setup and Overview\n",
    "\n",
    "There is an `ExtArgs` Pydantic model defined in `cmd_interface/external.py`. You should instantiate one of these objects for each \"command\". Then that object should be passed as the last (third) argument to `entry_point()`.\n",
    "\n",
    "Due to datamanager not being in a public package directory, we will have to ensure `syspath` allows us to import as expected (it's assumed this notebook is being run from some subpath under the EXIOBASE installation). Along with other standard stuff, this is done below."
   ]
  },
  {
   "cell_type": "code",
   "execution_count": 2,
   "metadata": {},
   "outputs": [
    {
     "name": "stdout",
     "output_type": "stream",
     "text": [
      "Current working directory: /home/peterma/exio_dev/repo/docs\n",
      "Found EXIOBASE install directory at: /home/peterma/exio_dev\n",
      "['/home/peterma/exio_dev/repo/docs',\n",
      " '/home/peterma/miniconda3/envs/exio-datamanager/lib/python310.zip',\n",
      " '/home/peterma/miniconda3/envs/exio-datamanager/lib/python3.10',\n",
      " '/home/peterma/miniconda3/envs/exio-datamanager/lib/python3.10/lib-dynload',\n",
      " '',\n",
      " '/home/peterma/miniconda3/envs/exio-datamanager/lib/python3.10/site-packages',\n",
      " '/home/peterma/exio_dev/repo/datamanager']\n",
      "'In datamanager/__init__.py, conda env: exio-datamanager'\n"
     ]
    }
   ],
   "source": [
    "import os\n",
    "import sys\n",
    "import re\n",
    "import time\n",
    "import warnings\n",
    "\n",
    "from pathlib import Path\n",
    "from pprint import pprint\n",
    "from datetime import datetime\n",
    "\n",
    "# Turn on all warnings... https://docs.python.org/3/library/warnings.html\n",
    "\n",
    "if not sys.warnoptions:\n",
    "    warnings.simplefilter(\"default\")  # Change the filter in this process\n",
    "    os.environ[\"PYTHONWARNINGS\"] = \"default\"  # Also affect subprocesses\n",
    "\n",
    "cur_working_dir = os.getcwd()\n",
    "print(f\"Current working directory: {cur_working_dir}\")\n",
    "\n",
    "# Iterate back until we find the EXIOBASE install notice, or we hit the max\n",
    "# number of allowed iterations.\n",
    "cur_check_dir = Path(cur_working_dir).resolve()\n",
    "b_found_install = False\n",
    "for i in range(0, 15):\n",
    "    cur_check_dir = cur_check_dir.parent\n",
    "    if cur_check_dir.is_dir() and Path(cur_check_dir / \"exiobase_install_notice.txt\").is_file():\n",
    "        # Found root dir for EXIOBASE install\n",
    "        b_found_install = True\n",
    "        print(f\"Found EXIOBASE install directory at: {cur_check_dir}\")\n",
    "        break\n",
    "\n",
    "if not b_found_install:\n",
    "    raise Exception(\"Failed to find EXIOBASE installation!\")\n",
    "\n",
    "datamanager_dir = str(Path(cur_check_dir / \"repo\" / \"datamanager\").resolve())\n",
    "if not datamanager_dir in sys.path:\n",
    "    sys.path.append(datamanager_dir)\n",
    "pprint(sys.path)\n",
    "\n",
    "# The required imports\n",
    "import datamanager\n",
    "from datamanager import entry_point\n",
    "from datamanager.cmd_interface.external import ExtArgs\n",
    "\n"
   ]
  },
  {
   "cell_type": "code",
   "execution_count": null,
   "metadata": {},
   "outputs": [],
   "source": [
    "    # input_files: List[Path] = []\n",
    "    # output_files: List[Path] = []\n",
    "    # simple_command: constr(\n",
    "    #     strict=True,\n",
    "    #     to_lower=True,\n",
    "    #     min_length=1,\n",
    "    #     max_length=int(g_persistent.constraints.simple_command_str_max_len),\n",
    "    #     pattern=g_persistent.constraints.simple_command_str_regex,\n",
    "    # )  # type: ignore\n",
    "    # error_log_file: Path | None\n",
    "    # warning_log_file: Path | None\n",
    "    # info_log_file: Path | None\n",
    "    # debug_log_file: Path | None\n",
    "    # runid: constr(\n",
    "    #     strict=True,\n",
    "    #     to_lower=True,\n",
    "    #     min_length=1,\n",
    "    #     max_length=int(g_persistent.constraints.runid_str_max_len),\n",
    "    #     pattern=g_persistent.constraints.runid_str_regex,\n",
    "    # ) | None  # type: ignore\n",
    "    # run_type: RuntypeEnum | None\n",
    "    # run_owner: str | None\n",
    "    # exio_version: str | None\n",
    "    # query_cmd: constr(\n",
    "    #     strict=True,\n",
    "    #     to_lower=True,\n",
    "    #     min_length=1,\n",
    "    #     max_length=int(g_persistent.constraints.query_str_str_max_len),\n",
    "    #     pattern=g_persistent.constraints.query_str_str_regex,\n",
    "    # ) | None  # type: ignore\n",
    "    # query_str: constr(min_length=1) | None  # type: ignore\n",
    "    # query_output_format: QueryOutputFormat | None  # type: ignore\n",
    "\n",
    "    # # What follows are argument specific to certain sections of code\n",
    "    # http_dl_allow_overwrite: bool | None\n",
    "    # http_dl_fail_exist_but_no_meta: FileButNoMetaActionEnum = FileButNoMetaActionEnum(\n",
    "    #     \"fail\"\n",
    "    # )"
   ]
  },
  {
   "cell_type": "code",
   "execution_count": null,
   "metadata": {},
   "outputs": [],
   "source": []
  },
  {
   "cell_type": "markdown",
   "metadata": {},
   "source": [
    "### Run Management"
   ]
  },
  {
   "cell_type": "markdown",
   "metadata": {},
   "source": []
  },
  {
   "cell_type": "markdown",
   "metadata": {},
   "source": [
    "query_runids_args = ExtArgs()"
   ]
  }
 ],
 "metadata": {
  "kernelspec": {
   "display_name": "exio-datamanager",
   "language": "python",
   "name": "python3"
  },
  "language_info": {
   "codemirror_mode": {
    "name": "ipython",
    "version": 3
   },
   "file_extension": ".py",
   "mimetype": "text/x-python",
   "name": "python",
   "nbconvert_exporter": "python",
   "pygments_lexer": "ipython3",
   "version": "3.10.12"
  },
  "orig_nbformat": 4
 },
 "nbformat": 4,
 "nbformat_minor": 2
}
